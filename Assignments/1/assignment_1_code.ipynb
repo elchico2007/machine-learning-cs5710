{
 "cells": [
  {
   "cell_type": "code",
   "execution_count": 2,
   "metadata": {},
   "outputs": [],
   "source": [
    "# Question 1\n",
    "ages = [ 19, 22, 19, 24, 20, 25, 26, 24, 25, 24 ]"
   ]
  },
  {
   "cell_type": "code",
   "execution_count": 3,
   "metadata": {},
   "outputs": [
    {
     "name": "stdout",
     "output_type": "stream",
     "text": [
      "[19, 19, 20, 22, 24, 24, 24, 25, 25, 26]\n",
      "19\n",
      "26\n"
     ]
    }
   ],
   "source": [
    "ages.sort()\n",
    "print(ages)\n",
    "# print min value\n",
    "print(ages[0])\n",
    "# maximum value\n",
    "print(ages[-1])"
   ]
  },
  {
   "cell_type": "code",
   "execution_count": 9,
   "metadata": {},
   "outputs": [
    {
     "name": "stdout",
     "output_type": "stream",
     "text": [
      "24.0\n"
     ]
    }
   ],
   "source": [
    "# median\n",
    "middle_index = int(len(ages)/2)\n",
    "median = (ages[middle_index] + ages[middle_index + 1]) / 2\n",
    "print(median)"
   ]
  },
  {
   "cell_type": "code",
   "execution_count": 11,
   "metadata": {},
   "outputs": [
    {
     "name": "stdout",
     "output_type": "stream",
     "text": [
      "22.8\n"
     ]
    }
   ],
   "source": [
    "# average\n",
    "print(sum(ages)/len(ages))"
   ]
  },
  {
   "cell_type": "code",
   "execution_count": 13,
   "metadata": {},
   "outputs": [
    {
     "name": "stdout",
     "output_type": "stream",
     "text": [
      "7\n"
     ]
    }
   ],
   "source": [
    "# range \n",
    "print(ages[-1]-ages[0])"
   ]
  },
  {
   "cell_type": "code",
   "execution_count": 14,
   "metadata": {},
   "outputs": [],
   "source": [
    " dog = dict()"
   ]
  },
  {
   "cell_type": "code",
   "execution_count": 15,
   "metadata": {},
   "outputs": [
    {
     "data": {
      "text/plain": [
       "{'name': 'duva',\n",
       " 'color': 'black',\n",
       " 'breed': 'german shepperd',\n",
       " 'legs': 4,\n",
       " 'age': '9 months'}"
      ]
     },
     "execution_count": 15,
     "metadata": {},
     "output_type": "execute_result"
    }
   ],
   "source": [
    "#Add name, color, breed, legs, age\n",
    "dog['name'] = 'duva'\n",
    "dog['color'] = 'black'\n",
    "dog['breed'] = 'german shepperd'\n",
    "dog['legs'] = 4\n",
    "dog['age'] = '9 months'\n",
    "\n",
    "dog"
   ]
  },
  {
   "cell_type": "code",
   "execution_count": 16,
   "metadata": {},
   "outputs": [
    {
     "data": {
      "text/plain": [
       "{'first_name': 'Anh',\n",
       " 'last_name': 'Nguyen',\n",
       " 'gender': 'female',\n",
       " 'age': 27,\n",
       " 'marital_status': 'married',\n",
       " 'skills': ['detail orianted', 'smart', 'moto rider'],\n",
       " 'country': 'Vietnam',\n",
       " 'city': 'Saigon',\n",
       " 'address': '342 Distrcit 1'}"
      ]
     },
     "execution_count": 16,
     "metadata": {},
     "output_type": "execute_result"
    }
   ],
   "source": [
    "# Student dict\n",
    "\n",
    "student = dict()\n",
    "student['first_name'] = 'Anh'\n",
    "student['last_name'] = 'Nguyen'\n",
    "student['gender'] = 'female'\n",
    "student['age'] = 27\n",
    "student['marital_status'] = 'married'\n",
    "student['skills'] = ['detail orianted', 'smart', 'moto rider']\n",
    "student['country'] = 'Vietnam'\n",
    "student['city'] = 'Saigon'\n",
    "student['address'] = '342 Distrcit 1'\n",
    "\n",
    "student"
   ]
  },
  {
   "cell_type": "code",
   "execution_count": 17,
   "metadata": {},
   "outputs": [
    {
     "name": "stdout",
     "output_type": "stream",
     "text": [
      "9\n"
     ]
    }
   ],
   "source": [
    "# length of student\n",
    "print(len(student))"
   ]
  },
  {
   "cell_type": "code",
   "execution_count": 18,
   "metadata": {},
   "outputs": [
    {
     "name": "stdout",
     "output_type": "stream",
     "text": [
      "<class 'list'>\n"
     ]
    }
   ],
   "source": [
    "# type of student skills\n",
    "print(type(student['skills']))"
   ]
  },
  {
   "cell_type": "code",
   "execution_count": 28,
   "metadata": {},
   "outputs": [
    {
     "data": {
      "text/plain": [
       "['detail orianted', 'smart', 'moto rider', 'painter', 'musician']"
      ]
     },
     "execution_count": 28,
     "metadata": {},
     "output_type": "execute_result"
    }
   ],
   "source": [
    "# adding to the list of skills\n",
    "student['skills'].append('painter')\n",
    "student['skills'].append('musician')\n",
    "student['skills']"
   ]
  },
  {
   "cell_type": "code",
   "execution_count": 29,
   "metadata": {},
   "outputs": [
    {
     "data": {
      "text/plain": [
       "dict_keys(['first_name', 'last_name', 'gender', 'age', 'marital_status', 'skills', 'country', 'city', 'address'])"
      ]
     },
     "execution_count": 29,
     "metadata": {},
     "output_type": "execute_result"
    }
   ],
   "source": [
    "# get the keys\n",
    "student.keys()"
   ]
  },
  {
   "cell_type": "code",
   "execution_count": 30,
   "metadata": {},
   "outputs": [
    {
     "data": {
      "text/plain": [
       "dict_values(['Anh', 'Nguyen', 'female', 27, 'married', ['detail orianted', 'smart', 'moto rider', 'painter', 'musician'], 'Vietnam', 'Saigon', '342 Distrcit 1'])"
      ]
     },
     "execution_count": 30,
     "metadata": {},
     "output_type": "execute_result"
    }
   ],
   "source": [
    "# print the values\n",
    "student.values()"
   ]
  },
  {
   "cell_type": "code",
   "execution_count": 43,
   "metadata": {},
   "outputs": [],
   "source": [
    "# creating tuples\n",
    "brothers = ('david', 'manny', 'levi')\n",
    "sisters = ('phuong', 'mary', 'dara')"
   ]
  },
  {
   "cell_type": "code",
   "execution_count": 44,
   "metadata": {},
   "outputs": [
    {
     "data": {
      "text/plain": [
       "('david', 'manny', 'levi', 'phuong', 'mary', 'dara')"
      ]
     },
     "execution_count": 44,
     "metadata": {},
     "output_type": "execute_result"
    }
   ],
   "source": [
    "# combining tuples\n",
    "siblings = brothers + sisters\n",
    "siblings"
   ]
  },
  {
   "cell_type": "code",
   "execution_count": 45,
   "metadata": {},
   "outputs": [
    {
     "data": {
      "text/plain": [
       "6"
      ]
     },
     "execution_count": 45,
     "metadata": {},
     "output_type": "execute_result"
    }
   ],
   "source": [
    "# lenght of siblings tuple list\n",
    "len(siblings)"
   ]
  },
  {
   "cell_type": "code",
   "execution_count": 47,
   "metadata": {},
   "outputs": [],
   "source": [
    "# adding mom and dad\n",
    "siblings = list(siblings)\n",
    "siblings.append('Aida')\n",
    "siblings.append('Cecilio')\n",
    "family_members = tuple(siblings)"
   ]
  },
  {
   "cell_type": "code",
   "execution_count": 49,
   "metadata": {},
   "outputs": [
    {
     "data": {
      "text/plain": [
       "('david', 'manny', 'levi', 'phuong', 'mary', 'dara', 'Aida', 'Cecilio')"
      ]
     },
     "execution_count": 49,
     "metadata": {},
     "output_type": "execute_result"
    }
   ],
   "source": [
    "family_members"
   ]
  },
  {
   "cell_type": "code",
   "execution_count": null,
   "metadata": {},
   "outputs": [],
   "source": []
  }
 ],
 "metadata": {
  "kernelspec": {
   "display_name": "Python 3 (ipykernel)",
   "language": "python",
   "name": "python3"
  },
  "language_info": {
   "codemirror_mode": {
    "name": "ipython",
    "version": 3
   },
   "file_extension": ".py",
   "mimetype": "text/x-python",
   "name": "python",
   "nbconvert_exporter": "python",
   "pygments_lexer": "ipython3",
   "version": "3.8.12"
  },
  "vscode": {
   "interpreter": {
    "hash": "916dbcbb3f70747c44a77c7bcd40155683ae19c65e1c03b4aa3499c5328201f1"
   }
  }
 },
 "nbformat": 4,
 "nbformat_minor": 2
}
