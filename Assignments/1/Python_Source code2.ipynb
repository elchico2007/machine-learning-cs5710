{
 "cells": [
  {
   "cell_type": "code",
   "execution_count": 2,
   "metadata": {},
   "outputs": [
    {
     "name": "stdout",
     "output_type": "stream",
     "text": [
      "0\n"
     ]
    }
   ],
   "source": [
    "empty_list = list() # this is an empty list, no item in the list\n",
    "print(len(empty_list)) # 0\n",
    "\n",
    "fruits = ['banana', 'orange', 'mango', 'lemon']                     # list of fruits\n",
    "vegetables = ['Tomato', 'Potato', 'Cabbage','Onion', 'Carrot']      # list of vegetables\n",
    "animal_products = ['milk', 'meat', 'butter', 'yoghurt']             # list of animal products\n",
    "web_techs = ['HTML', 'CSS', 'JS', 'React','Redux', 'Node', 'MongDB'] # list of web technologies\n",
    "countries = ['Finland', 'Estonia', 'Denmark', 'Sweden', 'Norway']\n"
   ]
  },
  {
   "cell_type": "code",
   "execution_count": 3,
   "metadata": {},
   "outputs": [
    {
     "name": "stdout",
     "output_type": "stream",
     "text": [
      "Fruits: ['banana', 'orange', 'mango', 'lemon']\n",
      "Number of fruits: 4\n",
      "Vegetables: ['Tomato', 'Potato', 'Cabbage', 'Onion', 'Carrot']\n",
      "Number of vegetables: 5\n",
      "Animal products: ['milk', 'meat', 'butter', 'yoghurt']\n",
      "Number of animal products: 4\n",
      "Web technologies: ['HTML', 'CSS', 'JS', 'React', 'Redux', 'Node', 'MongDB']\n",
      "Number of web technologies: 7\n",
      "Number of countries: 5\n"
     ]
    }
   ],
   "source": [
    "# Print the lists and it length\n",
    "print('Fruits:', fruits)\n",
    "print('Number of fruits:', len(fruits))\n",
    "print('Vegetables:', vegetables)\n",
    "print('Number of vegetables:', len(vegetables))\n",
    "print('Animal products:',animal_products)\n",
    "print('Number of animal products:', len(animal_products))\n",
    "print('Web technologies:', web_techs)\n",
    "print('Number of web technologies:', len(web_techs))\n",
    "print('Number of countries:', len(countries))\n"
   ]
  },
  {
   "cell_type": "code",
   "execution_count": 4,
   "metadata": {},
   "outputs": [
    {
     "name": "stdout",
     "output_type": "stream",
     "text": [
      "banana\n",
      "orange\n",
      "lemon\n"
     ]
    }
   ],
   "source": [
    "# Modifying list\n",
    "\n",
    "fruits = ['banana', 'orange', 'mango', 'lemon'] \n",
    "first_fruit = fruits[0] # we are accessing the first item using its index\n",
    "print(first_fruit)      # banana\n",
    "second_fruit = fruits[1]\n",
    "print(second_fruit)     # orange\n",
    "last_fruit = fruits[3]\n",
    "print(last_fruit) # lemon\n",
    "# Last index\n",
    "last_index = len(fruits) - 1\n",
    "last_fruit = fruits[last_index]"
   ]
  },
  {
   "cell_type": "code",
   "execution_count": 5,
   "metadata": {},
   "outputs": [
    {
     "name": "stdout",
     "output_type": "stream",
     "text": [
      "lemon\n",
      "mango\n"
     ]
    }
   ],
   "source": [
    "\n",
    "# Accessing items\n",
    "fruits = ['banana', 'orange', 'mango', 'lemon'] \n",
    "last_fruit = fruits[-1]\n",
    "second_last = fruits[-2]\n",
    "print(last_fruit)       # lemon\n",
    "print(second_last)      # mango\n"
   ]
  },
  {
   "cell_type": "code",
   "execution_count": 8,
   "metadata": {},
   "outputs": [
    {
     "name": "stdout",
     "output_type": "stream",
     "text": [
      "['Avocado', 'orange', 'mango', 'lemon']\n",
      "['Avocado', 'apple', 'mango', 'lemon']\n",
      "['Avocado', 'apple', 'mango', 'lime']\n"
     ]
    }
   ],
   "source": [
    "# Slicing items\n",
    "fruits = ['banana', 'orange', 'mango', 'lemon'] \n",
    "all_fruits = fruits[0:4] # it returns all the fruits\n",
    "# this is also give the same result as the above\n",
    "all_fruits = fruits[0:] # if we don't set where to stop it takes all the rest\n",
    "orange_and_mango = fruits[1:3] # it does not include the end index\n",
    "orange_mango_lemon = fruits[1:]\n",
    "\n",
    "fruits = ['banana', 'orange', 'mango', 'lemon'] \n",
    "all_fruits = fruits[-4:] # it returns all the fruits\n",
    "# this is also give the same result as the above\n",
    "orange_and_mango = fruits[-3:-1] # it does not include the end index\n",
    "orange_mango_lemon = fruits[-3:]\n",
    "\n",
    "fruits = ['banana', 'orange', 'mango', 'lemon'] \n",
    "fruits[0] = 'Avocado' \n",
    "print(fruits)       #  ['avocado', 'orange', 'mango', 'lemon']\n",
    "fruits[1] = 'apple'\n",
    "print(fruits)       #  ['avocado', 'apple', 'mango', 'lemon']\n",
    "last_index = len(fruits) - 1\n",
    "fruits[last_index] = 'lime'\n",
    "print(fruits)        #  ['avocado', 'apple', 'mango', 'lime']\n"
   ]
  },
  {
   "cell_type": "code",
   "execution_count": 9,
   "metadata": {},
   "outputs": [
    {
     "name": "stdout",
     "output_type": "stream",
     "text": [
      "True\n",
      "False\n"
     ]
    }
   ],
   "source": [
    "# checking items\n",
    "fruits = ['banana', 'orange', 'mango', 'lemon']\n",
    "does_exist = 'banana' in fruits\n",
    "print(does_exist)  # True\n",
    "does_exist = 'lime' in fruits\n",
    "print(does_exist)  # False\n"
   ]
  },
  {
   "cell_type": "code",
   "execution_count": 10,
   "metadata": {},
   "outputs": [
    {
     "name": "stdout",
     "output_type": "stream",
     "text": [
      "['banana', 'orange', 'mango', 'lemon', 'apple']\n",
      "['banana', 'orange', 'mango', 'lemon', 'apple', 'lime']\n"
     ]
    }
   ],
   "source": [
    "\n",
    "# Append\n",
    "fruits = ['banana', 'orange', 'mango', 'lemon']\n",
    "fruits.append('apple')\n",
    "print(fruits)           # ['banana', 'orange', 'mango', 'lemon', 'apple']\n",
    "fruits.append('lime')   # ['banana', 'orange', 'mango', 'lemon', 'apple', 'lime]\n",
    "print(fruits)\n",
    "\n"
   ]
  },
  {
   "cell_type": "code",
   "execution_count": 12,
   "metadata": {},
   "outputs": [
    {
     "name": "stdout",
     "output_type": "stream",
     "text": [
      "['banana', 'orange', 'apple', 'mango', 'lemon']\n",
      "['banana', 'orange', 'apple', 'lime', 'mango', 'lemon']\n"
     ]
    }
   ],
   "source": [
    "# insert\n",
    "fruits = ['banana', 'orange', 'mango', 'lemon']\n",
    "fruits.insert(2, 'apple') # insert apple between orange and mango\n",
    "print(fruits)           # ['banana', 'orange', 'apple', 'mango', 'lemon']\n",
    "fruits.insert(3, 'lime')   # ['banana', 'orange', 'apple', 'mango', 'lime','lemon',]\n",
    "print(fruits)\n"
   ]
  },
  {
   "cell_type": "code",
   "execution_count": 16,
   "metadata": {},
   "outputs": [
    {
     "name": "stdout",
     "output_type": "stream",
     "text": [
      "['orange', 'mango', 'lemon']\n",
      "['orange', 'mango']\n"
     ]
    }
   ],
   "source": [
    "\n",
    "\n",
    "# remove\n",
    "fruits = ['banana', 'orange', 'mango', 'lemon']\n",
    "fruits.remove('banana')\n",
    "print(fruits)  # ['orange', 'mango', 'lemon']\n",
    "fruits.remove('lemon')\n",
    "print(fruits)  # ['orange', 'mango']\n",
    "\n"
   ]
  },
  {
   "cell_type": "code",
   "execution_count": 18,
   "metadata": {},
   "outputs": [
    {
     "name": "stdout",
     "output_type": "stream",
     "text": [
      "['banana', 'orange', 'mango']\n",
      "['orange', 'mango']\n"
     ]
    }
   ],
   "source": [
    "# pop\n",
    "fruits = ['banana', 'orange', 'mango', 'lemon']\n",
    "fruits.pop()     \n",
    "print(fruits)       # ['banana', 'orange', 'mango']\n",
    "\n",
    "fruits.pop(0)     \n",
    "print(fruits)       # ['orange', 'mango'] "
   ]
  },
  {
   "cell_type": "code",
   "execution_count": 25,
   "metadata": {},
   "outputs": [
    {
     "name": "stdout",
     "output_type": "stream",
     "text": [
      "['orange', 'mango', 'lemon']\n"
     ]
    }
   ],
   "source": [
    "# del \n",
    "fruits = ['banana', 'orange', 'mango', 'lemon']\n",
    "del fruits[0]     \n",
    "print(fruits)       # ['orange', 'mango', 'lemon']\n",
    "\n"
   ]
  },
  {
   "cell_type": "code",
   "execution_count": 26,
   "metadata": {},
   "outputs": [
    {
     "name": "stdout",
     "output_type": "stream",
     "text": [
      "['orange', 'lemon']\n"
     ]
    }
   ],
   "source": [
    "del fruits[1]     \n",
    "print(fruits)       # ['orange', 'lemon']"
   ]
  },
  {
   "cell_type": "code",
   "execution_count": null,
   "metadata": {},
   "outputs": [],
   "source": [
    "del fruits\n",
    "print(fruits)       # This should give: NameError: name 'fruits' is not defined"
   ]
  },
  {
   "cell_type": "code",
   "execution_count": 27,
   "metadata": {},
   "outputs": [
    {
     "name": "stdout",
     "output_type": "stream",
     "text": [
      "[]\n"
     ]
    }
   ],
   "source": [
    "# clear\n",
    "fruits = ['banana', 'orange', 'mango', 'lemon']\n",
    "fruits.clear()     \n",
    "print(fruits)       # []"
   ]
  },
  {
   "cell_type": "code",
   "execution_count": 28,
   "metadata": {},
   "outputs": [
    {
     "name": "stdout",
     "output_type": "stream",
     "text": [
      "['banana', 'orange', 'mango', 'lemon']\n"
     ]
    }
   ],
   "source": [
    "# copying a list\n",
    "\n",
    "fruits = ['banana', 'orange', 'mango', 'lemon']\n",
    "fruits_copy = fruits.copy()     \n",
    "print(fruits_copy)       # ['banana', 'orange', 'mango', 'lemon']\n"
   ]
  },
  {
   "cell_type": "code",
   "execution_count": 29,
   "metadata": {},
   "outputs": [
    {
     "name": "stdout",
     "output_type": "stream",
     "text": [
      "[-5, -4, -3, -2, -1, 0, 1, 2, 3, 4, 5]\n",
      "['banana', 'orange', 'mango', 'lemon', 'Tomato', 'Potato', 'Cabbage', 'Onion', 'Carrot']\n"
     ]
    }
   ],
   "source": [
    "# join\n",
    "positive_numbers = [1, 2, 3,4,5]\n",
    "zero = [0]\n",
    "negative_numbers = [-5,-4,-3,-2,-1]\n",
    "integers = negative_numbers + zero + positive_numbers\n",
    "print(integers)\n",
    "fruits = ['banana', 'orange', 'mango', 'lemon']\n",
    "vegetables = ['Tomato', 'Potato', 'Cabbage','Onion', 'Carrot'] \n",
    "fruits_and_vegetables = fruits + vegetables\n",
    "print(fruits_and_vegetables )"
   ]
  },
  {
   "cell_type": "code",
   "execution_count": 30,
   "metadata": {},
   "outputs": [
    {
     "name": "stdout",
     "output_type": "stream",
     "text": [
      "Numbers: [0, 1, 2, 3, 4, 5, 6]\n",
      "Integers: [-5, -4, -3, -2, -1, 0, 1, 2, 3, 4, 5]\n",
      "Fruits and vegetables: ['banana', 'orange', 'mango', 'lemon', 'Tomato', 'Potato', 'Cabbage', 'Onion', 'Carrot']\n"
     ]
    }
   ],
   "source": [
    "# join with extend\n",
    "num1 = [0, 1, 2, 3]\n",
    "num2= [4, 5,6]\n",
    "num1.extend(num2)\n",
    "print('Numbers:', num1)\n",
    "negative_numbers = [-5,-4,-3,-2,-1]\n",
    "positive_numbers = [1, 2, 3,4,5]\n",
    "zero = [0]\n",
    "\n",
    "negative_numbers.extend(zero)\n",
    "negative_numbers.extend(positive_numbers)\n",
    "print('Integers:', negative_numbers)\n",
    "fruits = ['banana', 'orange', 'mango', 'lemon']\n",
    "vegetables = ['Tomato', 'Potato', 'Cabbage','Onion', 'Carrot'] \n",
    "fruits.extend(vegetables)\n",
    "print('Fruits and vegetables:', fruits )"
   ]
  },
  {
   "cell_type": "code",
   "execution_count": 31,
   "metadata": {},
   "outputs": [
    {
     "name": "stdout",
     "output_type": "stream",
     "text": [
      "1\n",
      "3\n"
     ]
    }
   ],
   "source": [
    "# count\n",
    "fruits = ['banana', 'orange', 'mango', 'lemon']\n",
    "print(fruits.count('orange'))   # 1\n",
    "ages = [22, 19, 24, 25, 26, 24, 25, 24]\n",
    "print(ages.count(24))           # 3"
   ]
  },
  {
   "cell_type": "code",
   "execution_count": 32,
   "metadata": {},
   "outputs": [
    {
     "name": "stdout",
     "output_type": "stream",
     "text": [
      "1\n",
      "2\n"
     ]
    }
   ],
   "source": [
    "\n",
    "# index\n",
    "fruits = ['banana', 'orange', 'mango', 'lemon']\n",
    "print(fruits.index('orange'))   # 1\n",
    "ages = [22, 19, 24, 25, 26, 24, 25, 24]\n",
    "print(ages.index(24)) "
   ]
  },
  {
   "cell_type": "code",
   "execution_count": 33,
   "metadata": {},
   "outputs": [
    {
     "name": "stdout",
     "output_type": "stream",
     "text": [
      "['lemon', 'mango', 'orange', 'banana']\n",
      "[24, 25, 24, 26, 25, 24, 19, 22]\n"
     ]
    }
   ],
   "source": [
    "# Reverse\n",
    "fruits = ['banana', 'orange', 'mango', 'lemon']\n",
    "fruits.reverse()\n",
    "print(fruits)  \n",
    "ages = [22, 19, 24, 25, 26, 24, 25, 24]\n",
    "ages.reverse()\n",
    "print(ages) "
   ]
  },
  {
   "cell_type": "code",
   "execution_count": 145,
   "metadata": {},
   "outputs": [
    {
     "name": "stdout",
     "output_type": "stream",
     "text": [
      "['banana', 'lemon', 'mango', 'orange']\n",
      "['orange', 'mango', 'lemon', 'banana']\n",
      "[19, 22, 24, 24, 24, 25, 25, 26]\n",
      "[26, 25, 25, 24, 24, 24, 22, 19]\n"
     ]
    }
   ],
   "source": [
    "# sort\n",
    "fruits = ['banana', 'orange', 'mango', 'lemon']\n",
    "fruits.sort()\n",
    "print(fruits) \n",
    "fruits.sort(reverse=True)\n",
    "print(fruits)\n",
    "ages = [22, 19, 24, 25, 26, 24, 25, 24]\n",
    "ages.sort()\n",
    "print(ages) \n",
    "ages.sort(reverse=True)\n",
    "print(ages) "
   ]
  },
  {
   "cell_type": "code",
   "execution_count": 146,
   "metadata": {},
   "outputs": [
    {
     "name": "stdout",
     "output_type": "stream",
     "text": [
      "['banana', 'lemon', 'mango', 'orange']\n",
      "['orange', 'mango', 'lemon', 'banana']\n"
     ]
    }
   ],
   "source": [
    "fruits = ['banana', 'orange', 'mango', 'lemon']\n",
    "print(sorted(fruits))   # ['banana', 'lemon', 'mango', 'orange']\n",
    "# Reverse order\n",
    "fruits = ['banana', 'orange', 'mango', 'lemon']\n",
    "fruits = sorted(fruits,reverse=True)\n",
    "print(fruits)     # ['orange', 'mango', 'lemon', 'banana']"
   ]
  },
  {
   "cell_type": "code",
   "execution_count": 54,
   "metadata": {},
   "outputs": [
    {
     "name": "stdout",
     "output_type": "stream",
     "text": [
      "()\n",
      "('item1', 'item2', 'item3')\n",
      "('banana', 'orange', 'mango', 'lemon')\n"
     ]
    }
   ],
   "source": [
    "### Creating a Tuple\n",
    "\n",
    "empty_tuple = ()\n",
    "# or using the tuple constructor\n",
    "empty_tuple = tuple()\n",
    "tpl = ('item1', 'item2','item3')\n",
    "fruits = ('banana', 'orange', 'mango', 'lemon')\n",
    "print(empty_tuple)\n",
    "print(tpl)\n",
    "print(fruits)"
   ]
  },
  {
   "cell_type": "code",
   "execution_count": 36,
   "metadata": {},
   "outputs": [
    {
     "data": {
      "text/plain": [
       "3"
      ]
     },
     "execution_count": 36,
     "metadata": {},
     "output_type": "execute_result"
    }
   ],
   "source": [
    "### Tuple length\n",
    "\n",
    "tpl = ('item1', 'item2', 'item3')\n",
    "len(tpl)\n"
   ]
  },
  {
   "cell_type": "code",
   "execution_count": 56,
   "metadata": {},
   "outputs": [
    {
     "name": "stdout",
     "output_type": "stream",
     "text": [
      "item1 item2\n",
      "lemon\n",
      "item1\n",
      "item2\n",
      "banana\n",
      "orange\n",
      "lemon\n"
     ]
    }
   ],
   "source": [
    "### Accessing Tuple Items\n",
    "\n",
    "tpl = ('item1', 'item2', 'item3')\n",
    "first_item = tpl[0]\n",
    "second_item = tpl[1]\n",
    "print(first_item, second_item)\n",
    "\n",
    "fruits = ('banana', 'orange', 'mango', 'lemon')\n",
    "first_fruit = fruits[0]\n",
    "second_fruit = fruits[1]\n",
    "last_index =len(fruits) - 1\n",
    "last_fruit = fruits[last_index]\n",
    "print(last_fruit)\n",
    "\n",
    "tpl = ('item1', 'item2', 'item3','item4')\n",
    "first_item = tpl[-4]\n",
    "second_item = tpl[-3]\n",
    "print(first_item)\n",
    "print(second_item)\n",
    "\n",
    "fruits = ('banana', 'orange', 'mango', 'lemon')\n",
    "first_fruit = fruits[-4]\n",
    "second_fruit = fruits[-3]\n",
    "last_fruit = fruits[-1]\n",
    "print(first_fruit)\n",
    "print(second_fruit)\n",
    "print(last_fruit)\n"
   ]
  },
  {
   "cell_type": "code",
   "execution_count": 66,
   "metadata": {},
   "outputs": [
    {
     "name": "stdout",
     "output_type": "stream",
     "text": [
      "('item1', 'item2', 'item3', 'item4')\n",
      "('item1', 'item2', 'item3', 'item4')\n",
      "('item2', 'item3')\n",
      "('banana', 'orange', 'mango', 'lemon')\n",
      "('banana', 'orange', 'mango', 'lemon')\n",
      "('orange', 'mango')\n",
      "('orange', 'mango', 'lemon')\n"
     ]
    }
   ],
   "source": [
    "### Slicing tuples\n",
    "\n",
    "tpl = ('item1', 'item2', 'item3','item4')\n",
    "all_items = tpl[0:4]         # all items\n",
    "print(all_items)\n",
    "all_items = tpl[0:]         # all items\n",
    "print(all_items)\n",
    "middle_two_items = tpl[1:3]  # does not include item at index 3\n",
    "print(middle_two_items)\n",
    "\n",
    "fruits = ('banana', 'orange', 'mango', 'lemon')\n",
    "all_fruits = fruits[0:4]    # all items\n",
    "all_fruits= fruits[0:]      # all items\n",
    "orange_mango = fruits[1:3]  # doesn't include item at index 3\n",
    "orange_to_the_rest = fruits[1:]\n",
    "print(all_fruits)\n",
    "print(all_fruits)\n",
    "print(orange_mango)\n",
    "print(orange_to_the_rest)\n",
    "\n"
   ]
  },
  {
   "cell_type": "code",
   "execution_count": 67,
   "metadata": {},
   "outputs": [
    {
     "name": "stdout",
     "output_type": "stream",
     "text": [
      "('item1', 'item2', 'item3', 'item4')\n",
      "('item2', 'item3')\n",
      "('banana', 'orange', 'mango', 'lemon')\n",
      "('orange', 'mango')\n",
      "('orange', 'mango', 'lemon')\n"
     ]
    }
   ],
   "source": [
    "tpl = ('item1', 'item2', 'item3','item4')\n",
    "all_items = tpl[-4:]         # all items\n",
    "middle_two_items = tpl[-3:-1]  # does not include item at index 3 (-1)\n",
    "print(all_items)\n",
    "print(middle_two_items)\n",
    "\n",
    "\n",
    "\n",
    "fruits = ('banana', 'orange', 'mango', 'lemon')\n",
    "all_fruits = fruits[-4:]    # all items\n",
    "orange_mango = fruits[-3:-1]  # doesn't include item at index 3\n",
    "orange_to_the_rest = fruits[-3:]\n",
    "print(all_fruits)\n",
    "print(orange_mango)\n",
    "print(orange_to_the_rest)"
   ]
  },
  {
   "cell_type": "code",
   "execution_count": 65,
   "metadata": {},
   "outputs": [
    {
     "name": "stdout",
     "output_type": "stream",
     "text": [
      "['item1', 'item2', 'item3', 'item4']\n",
      "['apple', 'orange', 'mango', 'lemon']\n",
      "('apple', 'orange', 'mango', 'lemon')\n"
     ]
    }
   ],
   "source": [
    "### Changing Tuples to Lists\n",
    "\n",
    "tpl = ('item1', 'item2', 'item3','item4')\n",
    "lst = list(tpl)\n",
    "print(lst)\n",
    "\n",
    "fruits = ('banana', 'orange', 'mango', 'lemon')\n",
    "fruits = list(fruits)\n",
    "fruits[0] = 'apple'\n",
    "print(fruits)     # ['apple', 'orange', 'mango', 'lemon']\n",
    "fruits = tuple(fruits)\n",
    "print(fruits)     # ('apple', 'orange', 'mango', 'lemon')"
   ]
  },
  {
   "cell_type": "code",
   "execution_count": 47,
   "metadata": {},
   "outputs": [
    {
     "data": {
      "text/plain": [
       "True"
      ]
     },
     "execution_count": 47,
     "metadata": {},
     "output_type": "execute_result"
    }
   ],
   "source": [
    "### Checking an Item in a Tuple\n",
    "\n",
    "tpl = ('item1', 'item2', 'item3','item4')\n",
    "'item2' in tpl # True"
   ]
  },
  {
   "cell_type": "code",
   "execution_count": 48,
   "metadata": {},
   "outputs": [
    {
     "name": "stdout",
     "output_type": "stream",
     "text": [
      "True\n"
     ]
    }
   ],
   "source": [
    "fruits = ('banana', 'orange', 'mango', 'lemon')\n",
    "print('orange' in fruits) # True"
   ]
  },
  {
   "cell_type": "code",
   "execution_count": null,
   "metadata": {},
   "outputs": [],
   "source": [
    "print('apple' in fruits) # False\n",
    "fruits[0] = 'apple' # TypeError: 'tuple' object does not support item assignment"
   ]
  },
  {
   "cell_type": "code",
   "execution_count": 64,
   "metadata": {},
   "outputs": [
    {
     "name": "stdout",
     "output_type": "stream",
     "text": [
      "('item1', 'item2', 'item3', 'item4', 'item5', 'item6')\n",
      "('banana', 'orange', 'mango', 'lemon', 'Tomato', 'Potato', 'Cabbage', 'Onion', 'Carrot')\n"
     ]
    }
   ],
   "source": [
    "### Joining Tuples\n",
    "\n",
    "tpl1 = ('item1', 'item2', 'item3')\n",
    "tpl2 = ('item4', 'item5','item6')\n",
    "tpl3 = tpl1 + tpl2\n",
    "print(tpl3)\n",
    "\n",
    "fruits = ('banana', 'orange', 'mango', 'lemon')\n",
    "vegetables = ('Tomato', 'Potato', 'Cabbage','Onion', 'Carrot')\n",
    "fruits_and_vegetables = fruits + vegetables\n",
    "print(fruits_and_vegetables)"
   ]
  },
  {
   "cell_type": "code",
   "execution_count": 60,
   "metadata": {},
   "outputs": [
    {
     "name": "stdout",
     "output_type": "stream",
     "text": [
      "('item1', 'item2', 'item3')\n",
      "('banana', 'orange', 'mango', 'lemon')\n"
     ]
    }
   ],
   "source": [
    "### Deleting Tuples\n",
    "\n",
    "# syntax\n",
    "tpl1 = ('item1', 'item2', 'item3')\n",
    "print(tpl1)\n",
    "\n",
    "\n",
    "fruits = ('banana', 'orange', 'mango', 'lemon')\n",
    "print(fruits)\n",
    "\n"
   ]
  },
  {
   "cell_type": "code",
   "execution_count": 70,
   "metadata": {},
   "outputs": [],
   "source": [
    "del tpl1\n",
    "\n",
    "del fruits"
   ]
  },
  {
   "cell_type": "code",
   "execution_count": 71,
   "metadata": {},
   "outputs": [
    {
     "ename": "NameError",
     "evalue": "name 'tpl1' is not defined",
     "output_type": "error",
     "traceback": [
      "\u001b[1;31m---------------------------------------------------------------------------\u001b[0m",
      "\u001b[1;31mNameError\u001b[0m                                 Traceback (most recent call last)",
      "\u001b[1;32m<ipython-input-71-132be1320acd>\u001b[0m in \u001b[0;36m<module>\u001b[1;34m\u001b[0m\n\u001b[1;32m----> 1\u001b[1;33m \u001b[0mprint\u001b[0m\u001b[1;33m(\u001b[0m\u001b[0mtpl1\u001b[0m\u001b[1;33m)\u001b[0m\u001b[1;33m\u001b[0m\u001b[0m\n\u001b[0m",
      "\u001b[1;31mNameError\u001b[0m: name 'tpl1' is not defined"
     ]
    }
   ],
   "source": [
    "print(tpl1)"
   ]
  },
  {
   "cell_type": "code",
   "execution_count": 73,
   "metadata": {},
   "outputs": [
    {
     "ename": "NameError",
     "evalue": "name 'fruits' is not defined",
     "output_type": "error",
     "traceback": [
      "\u001b[1;31m---------------------------------------------------------------------------\u001b[0m",
      "\u001b[1;31mNameError\u001b[0m                                 Traceback (most recent call last)",
      "\u001b[1;32m<ipython-input-73-c5ba58fe0871>\u001b[0m in \u001b[0;36m<module>\u001b[1;34m\u001b[0m\n\u001b[1;32m----> 1\u001b[1;33m \u001b[0mprint\u001b[0m\u001b[1;33m(\u001b[0m\u001b[0mfruits\u001b[0m\u001b[1;33m)\u001b[0m\u001b[1;33m\u001b[0m\u001b[0m\n\u001b[0m",
      "\u001b[1;31mNameError\u001b[0m: name 'fruits' is not defined"
     ]
    }
   ],
   "source": [
    "print(fruits)"
   ]
  },
  {
   "cell_type": "code",
   "execution_count": 77,
   "metadata": {},
   "outputs": [
    {
     "name": "stdout",
     "output_type": "stream",
     "text": [
      "{}\n",
      "set()\n"
     ]
    }
   ],
   "source": [
    "# Creating an empty set\n",
    "\n",
    "\n",
    "st = {}\n",
    "print(st)\n",
    "# or\n",
    "st = set()\n",
    "print(st)\n"
   ]
  },
  {
   "cell_type": "code",
   "execution_count": 78,
   "metadata": {},
   "outputs": [
    {
     "name": "stdout",
     "output_type": "stream",
     "text": [
      "{'item2', 'item3', 'item4', 'item1'}\n",
      "{'mango', 'banana', 'lemon', 'orange'}\n"
     ]
    }
   ],
   "source": [
    "st = {'item1', 'item2', 'item3', 'item4'}\n",
    "fruits = {'banana', 'orange', 'mango', 'lemon'}\n",
    "print(st)\n",
    "print(fruits)"
   ]
  },
  {
   "cell_type": "code",
   "execution_count": 83,
   "metadata": {},
   "outputs": [
    {
     "data": {
      "text/plain": [
       "4"
      ]
     },
     "execution_count": 83,
     "metadata": {},
     "output_type": "execute_result"
    }
   ],
   "source": [
    "### Getting Set's Length\n",
    "\n",
    "st = {'item1', 'item2', 'item3', 'item4'}\n",
    "len(st)"
   ]
  },
  {
   "cell_type": "code",
   "execution_count": 84,
   "metadata": {},
   "outputs": [
    {
     "data": {
      "text/plain": [
       "4"
      ]
     },
     "execution_count": 84,
     "metadata": {},
     "output_type": "execute_result"
    }
   ],
   "source": [
    "fruits = {'banana', 'orange', 'mango', 'lemon'}\n",
    "len(fruits)"
   ]
  },
  {
   "cell_type": "code",
   "execution_count": 89,
   "metadata": {},
   "outputs": [
    {
     "name": "stdout",
     "output_type": "stream",
     "text": [
      "Does set st contain item3?  True\n",
      "True\n"
     ]
    }
   ],
   "source": [
    "### Accessing Items in a Set\n",
    "### Checking an Item\n",
    "\n",
    "st = {'item1', 'item2', 'item3', 'item4'}\n",
    "print(\"Does set st contain item3? \", 'item3' in st) # Does set st contain item3? True\n",
    "fruits = {'banana', 'orange', 'mango', 'lemon'}\n",
    "print('mango' in fruits ) # True"
   ]
  },
  {
   "cell_type": "code",
   "execution_count": 94,
   "metadata": {},
   "outputs": [
    {
     "name": "stdout",
     "output_type": "stream",
     "text": [
      "{'item3', 'item1', 'item2', 'item5', 'item4'}\n",
      "{'lime', 'lemon', 'banana', 'orange', 'mango'}\n"
     ]
    }
   ],
   "source": [
    "### Adding Items to a Set\n",
    "\n",
    "st = {'item1', 'item2', 'item3', 'item4'}\n",
    "st.add('item5')\n",
    "print(st)\n",
    "\n",
    "\n",
    "\n",
    "fruits = {'banana', 'orange', 'mango', 'lemon'}\n",
    "fruits.add('lime')\n",
    "print(fruits)\n",
    "\n",
    "\n"
   ]
  },
  {
   "cell_type": "code",
   "execution_count": 96,
   "metadata": {},
   "outputs": [
    {
     "name": "stdout",
     "output_type": "stream",
     "text": [
      "{'item3', 'item1', 'item7', 'item2', 'item5', 'item4', 'item6'}\n",
      "{'potato', 'tomato', 'lemon', 'onion', 'banana', 'orange', 'cabbage', 'carrot', 'mango'}\n"
     ]
    }
   ],
   "source": [
    "st = {'item1', 'item2', 'item3', 'item4'}\n",
    "st.update(['item5','item6','item7'])\n",
    "print(st)\n",
    "\n",
    "fruits = {'banana', 'orange', 'mango', 'lemon'}\n",
    "vegetables = ('tomato', 'potato', 'cabbage','onion', 'carrot')\n",
    "fruits.update(vegetables)\n",
    "print(fruits)\n"
   ]
  },
  {
   "cell_type": "code",
   "execution_count": 97,
   "metadata": {},
   "outputs": [
    {
     "name": "stdout",
     "output_type": "stream",
     "text": [
      "{'item3', 'item4', 'item1'}\n",
      "{'banana', 'lemon', 'orange'}\n",
      "{'banana', 'lemon', 'orange'}\n"
     ]
    }
   ],
   "source": [
    "### Removing Items from a Set\n",
    "\n",
    "\n",
    "st = {'item1', 'item2', 'item3', 'item4'}\n",
    "st.remove('item2')\n",
    "print(st)\n",
    "\n",
    "fruits = {'banana', 'orange', 'mango', 'lemon'}\n",
    "fruits.pop()  # removes a random item from the set\n",
    "print(fruits)\n",
    "\n",
    "\n",
    "fruits = {'banana', 'orange', 'mango', 'lemon'}\n",
    "removed_item = fruits.pop() \n",
    "print(fruits)"
   ]
  },
  {
   "cell_type": "code",
   "execution_count": 99,
   "metadata": {},
   "outputs": [
    {
     "name": "stdout",
     "output_type": "stream",
     "text": [
      "set()\n",
      "set()\n"
     ]
    }
   ],
   "source": [
    "### Clearing Items in a Set\n",
    "\n",
    "st = {'item1', 'item2', 'item3', 'item4'}\n",
    "st.clear()\n",
    "print(st)\n",
    "\n",
    "fruits = {'banana', 'orange', 'mango', 'lemon'}\n",
    "fruits.clear()\n",
    "print(fruits) # set()\n"
   ]
  },
  {
   "cell_type": "code",
   "execution_count": 100,
   "metadata": {},
   "outputs": [],
   "source": [
    "### Deleting a Set\n",
    "\n",
    "st = {'item1', 'item2', 'item3', 'item4'}\n",
    "del st\n",
    "\n",
    "fruits = {'banana', 'orange', 'mango', 'lemon'}\n",
    "del fruits"
   ]
  },
  {
   "cell_type": "code",
   "execution_count": 102,
   "metadata": {},
   "outputs": [
    {
     "ename": "NameError",
     "evalue": "name 'st' is not defined",
     "output_type": "error",
     "traceback": [
      "\u001b[1;31m---------------------------------------------------------------------------\u001b[0m",
      "\u001b[1;31mNameError\u001b[0m                                 Traceback (most recent call last)",
      "\u001b[1;32m<ipython-input-102-7906f3753e9a>\u001b[0m in \u001b[0;36m<module>\u001b[1;34m\u001b[0m\n\u001b[1;32m----> 1\u001b[1;33m \u001b[0mprint\u001b[0m\u001b[1;33m(\u001b[0m\u001b[0mst\u001b[0m\u001b[1;33m)\u001b[0m\u001b[1;33m\u001b[0m\u001b[0m\n\u001b[0m",
      "\u001b[1;31mNameError\u001b[0m: name 'st' is not defined"
     ]
    }
   ],
   "source": [
    "print(st)"
   ]
  },
  {
   "cell_type": "code",
   "execution_count": 103,
   "metadata": {},
   "outputs": [
    {
     "ename": "NameError",
     "evalue": "name 'fruits' is not defined",
     "output_type": "error",
     "traceback": [
      "\u001b[1;31m---------------------------------------------------------------------------\u001b[0m",
      "\u001b[1;31mNameError\u001b[0m                                 Traceback (most recent call last)",
      "\u001b[1;32m<ipython-input-103-c5ba58fe0871>\u001b[0m in \u001b[0;36m<module>\u001b[1;34m\u001b[0m\n\u001b[1;32m----> 1\u001b[1;33m \u001b[0mprint\u001b[0m\u001b[1;33m(\u001b[0m\u001b[0mfruits\u001b[0m\u001b[1;33m)\u001b[0m\u001b[1;33m\u001b[0m\u001b[0m\n\u001b[0m",
      "\u001b[1;31mNameError\u001b[0m: name 'fruits' is not defined"
     ]
    }
   ],
   "source": [
    "print(fruits)"
   ]
  },
  {
   "cell_type": "code",
   "execution_count": 104,
   "metadata": {},
   "outputs": [
    {
     "name": "stdout",
     "output_type": "stream",
     "text": [
      "{'item2', 'item3', 'item4', 'item1'}\n",
      "{'mango', 'banana', 'lemon', 'orange'}\n"
     ]
    }
   ],
   "source": [
    "### Converting List to Set\n",
    "\n",
    "lst = ['item1', 'item2', 'item3', 'item4', 'item1']\n",
    "st = set(lst)  # {'item2', 'item4', 'item1', 'item3'} - the order is random, because sets in general are unordered\n",
    "print(st)\n",
    "\n",
    "fruits = ['banana', 'orange', 'mango', 'lemon','orange', 'banana']\n",
    "fruits = set(fruits) # {'mango', 'lemon', 'banana', 'orange'}\n",
    "print(fruits)"
   ]
  },
  {
   "cell_type": "code",
   "execution_count": 107,
   "metadata": {},
   "outputs": [
    {
     "name": "stdout",
     "output_type": "stream",
     "text": [
      "{'item3', 'item1', 'item8', 'item7', 'item2', 'item5', 'item4', 'item6'}\n",
      "{'potato', 'tomato', 'lemon', 'onion', 'banana', 'orange', 'cabbage', 'carrot', 'mango'}\n",
      "{'item3', 'item1', 'item8', 'item7', 'item2', 'item5', 'item4', 'item6'}\n",
      "{'potato', 'tomato', 'lemon', 'onion', 'banana', 'orange', 'cabbage', 'carrot', 'mango'}\n"
     ]
    }
   ],
   "source": [
    "### Joining Sets\n",
    "\n",
    "st1 = {'item1', 'item2', 'item3', 'item4'}\n",
    "st2 = {'item5', 'item6', 'item7', 'item8'}\n",
    "st3 = st1.union(st2)\n",
    "print(st3)\n",
    "\n",
    "fruits = {'banana', 'orange', 'mango', 'lemon'}\n",
    "vegetables = {'tomato', 'potato', 'cabbage','onion', 'carrot'}\n",
    "print(fruits.union(vegetables)) # {'lemon', 'carrot', 'tomato', 'banana', 'mango', 'orange', 'cabbage', 'potato', 'onion'}\n",
    "\n",
    "st1 = {'item1', 'item2', 'item3', 'item4'}\n",
    "st2 = {'item5', 'item6', 'item7', 'item8'}\n",
    "st1.update(st2) # st2 contents are added to st1\n",
    "print(st1)\n",
    "\n",
    "fruits = {'banana', 'orange', 'mango', 'lemon'}\n",
    "vegetables = {'tomato', 'potato', 'cabbage','onion', 'carrot'}\n",
    "fruits.update(vegetables)\n",
    "print(fruits) # {'lemon', 'carrot', 'tomato', 'banana', 'mango', 'orange', 'cabbage', 'potato', 'onion'}\n"
   ]
  },
  {
   "cell_type": "code",
   "execution_count": 109,
   "metadata": {},
   "outputs": [
    {
     "name": "stdout",
     "output_type": "stream",
     "text": [
      "{'item2', 'item3'}\n",
      "{0, 1, 2, 3, 4, 5, 6, 7, 8, 9, 10}\n",
      "{'n', 'o'}\n"
     ]
    }
   ],
   "source": [
    "### Finding Intersection Items\n",
    "\n",
    "st1 = {'item1', 'item2', 'item3', 'item4'}\n",
    "st2 = {'item3', 'item2'}\n",
    "print(st1.intersection(st2)) # {'item3', 'item2'}\n",
    "\n",
    "\n",
    "whole_numbers = {0, 1, 2, 3, 4, 5, 6, 7, 8, 9, 10}\n",
    "even_numbers = {0, 2, 4, 6, 8, 10}\n",
    "whole_numbers.intersection(even_numbers) # {0, 2, 4, 6, 8, 10}\n",
    "print(whole_numbers)\n",
    "\n",
    "python = {'p', 'y', 't', 'h', 'o','n'}\n",
    "dragon = {'d', 'r', 'a', 'g', 'o','n'}\n",
    "print(python.intersection(dragon) )    # {'o', 'n'}"
   ]
  },
  {
   "cell_type": "code",
   "execution_count": 113,
   "metadata": {},
   "outputs": [
    {
     "name": "stdout",
     "output_type": "stream",
     "text": [
      "True\n",
      "True\n",
      "False\n",
      "True\n",
      "False\n"
     ]
    }
   ],
   "source": [
    "### Checking Subset and Super Set\n",
    "\n",
    "st1 = {'item1', 'item2', 'item3', 'item4'}\n",
    "st2 = {'item2', 'item3'}\n",
    "print(st2.issubset(st1)) # True\n",
    "print(st1.issuperset(st2)) # True\n",
    "\n",
    "\n",
    "whole_numbers = {0, 1, 2, 3, 4, 5, 6, 7, 8, 9, 10}\n",
    "even_numbers = {0, 2, 4, 6, 8, 10}\n",
    "print(whole_numbers.issubset(even_numbers)) # False, because it is a super set\n",
    "print(whole_numbers.issuperset(even_numbers)) # True\n",
    "\n",
    "python = {'p', 'y', 't', 'h', 'o','n'}\n",
    "dragon = {'d', 'r', 'a', 'g', 'o','n'}\n",
    "print(python.issubset(dragon) )    # False\n"
   ]
  },
  {
   "cell_type": "code",
   "execution_count": 115,
   "metadata": {},
   "outputs": [
    {
     "name": "stdout",
     "output_type": "stream",
     "text": [
      "set()\n",
      "{'item4', 'item1'}\n",
      "{1, 3, 5, 7, 9}\n",
      "{'p', 'y', 't'}\n",
      "{'d', 'r', 'g', 'a'}\n"
     ]
    }
   ],
   "source": [
    "### Checking the Difference Between Two Sets\n",
    "\n",
    "st1 = {'item1', 'item2', 'item3', 'item4'}\n",
    "st2 = {'item2', 'item3'}\n",
    "print(st2.difference(st1)) # set()\n",
    "print(st1.difference(st2)) # {'item1', 'item4'} => st1\\st2\n",
    "\n",
    "whole_numbers = {0, 1, 2, 3, 4, 5, 6, 7, 8, 9, 10}\n",
    "even_numbers = {0, 2, 4, 6, 8, 10}\n",
    "print(whole_numbers.difference(even_numbers)) # {1, 3, 5, 7, 9}\n",
    "\n",
    "python = {'p', 'y', 't', 'o','n'}\n",
    "dragon = {'d', 'r', 'a', 'g', 'o','n'}\n",
    "print(python.difference(dragon))    # {'p', 'y', 't'}  - the result is unordered (characteristic of sets)\n",
    "print(dragon.difference(python))     # {'d', 'r', 'a', 'g'}"
   ]
  },
  {
   "cell_type": "code",
   "execution_count": 116,
   "metadata": {},
   "outputs": [
    {
     "name": "stdout",
     "output_type": "stream",
     "text": [
      "{'item4', 'item1'}\n",
      "{0, 6, 7, 8, 9, 10}\n",
      "{'d', 'g', 'a', 't', 'p', 'h', 'y', 'r'}\n"
     ]
    }
   ],
   "source": [
    "### Finding Symmetric Difference Between Two Sets\n",
    "\n",
    "st1 = {'item1', 'item2', 'item3', 'item4'}\n",
    "st2 = {'item2', 'item3'}\n",
    "# it means (A\\B)∪(B\\A)\n",
    "print(st2.symmetric_difference(st1)) # {'item1', 'item4'}\n",
    "\n",
    "whole_numbers = {0, 1, 2, 3, 4, 5, 6, 7, 8, 9, 10}\n",
    "some_numbers = {1, 2, 3, 4, 5}\n",
    "print(whole_numbers.symmetric_difference(some_numbers)) # {0, 6, 7, 8, 9, 10}\n",
    "\n",
    "python = {'p', 'y', 't', 'h', 'o','n'}\n",
    "dragon = {'d', 'r', 'a', 'g', 'o','n'}\n",
    "print(python.symmetric_difference(dragon))  # {'r', 't', 'p', 'y', 'g', 'a', 'd', 'h'}"
   ]
  },
  {
   "cell_type": "code",
   "execution_count": 119,
   "metadata": {},
   "outputs": [
    {
     "name": "stdout",
     "output_type": "stream",
     "text": [
      "False\n",
      "True\n",
      "False\n"
     ]
    }
   ],
   "source": [
    "### Joining Sets\n",
    "\n",
    "st1 = {'item1', 'item2', 'item3', 'item4'}\n",
    "st2 = {'item2', 'item3'}\n",
    "print(st2.isdisjoint(st1)) # False\n",
    "\n",
    "\n",
    "\n",
    "even_numbers = {0, 2, 4 ,6, 8}\n",
    "odd_numbers = {1, 3, 5, 7, 9}\n",
    "print(even_numbers.isdisjoint(odd_numbers)) # True, because no common item\n",
    "\n",
    "python = {'p', 'y', 't', 'h', 'o','n'}\n",
    "dragon = {'d', 'r', 'a', 'g', 'o','n'}\n",
    "print(python.isdisjoint(dragon))  # False, there are common items {'o', 'n'}\n",
    "\n",
    "\n"
   ]
  },
  {
   "cell_type": "code",
   "execution_count": 121,
   "metadata": {},
   "outputs": [
    {
     "name": "stdout",
     "output_type": "stream",
     "text": [
      "{'key1': 'value1', 'key2': 'value2', 'key3': 'value3', 'key4': 'value4'}\n",
      "{'first_name': 'Asabeneh', 'last_name': 'Yetayeh', 'age': 250, 'country': 'Finland', 'is_marred': True, 'skills': ['JavaScript', 'React', 'Node', 'MongoDB', 'Python'], 'address': {'street': 'Space street', 'zipcode': '02210'}}\n"
     ]
    }
   ],
   "source": [
    "### Creating a Dictionary\n",
    "\n",
    "empty_dict = {}\n",
    "# Dictionary with data values\n",
    "dct = {'key1':'value1', 'key2':'value2', 'key3':'value3', 'key4':'value4'}\n",
    "\n",
    "print(dct)\n",
    "\n",
    "person = {\n",
    "    'first_name':'Asabeneh',\n",
    "    'last_name':'Yetayeh',\n",
    "    'age':250,\n",
    "    'country':'Finland',\n",
    "    'is_marred':True,\n",
    "    'skills':['JavaScript', 'React', 'Node', 'MongoDB', 'Python'],\n",
    "    'address':{\n",
    "        'street':'Space street',\n",
    "        'zipcode':'02210'\n",
    "    }\n",
    "    }\n",
    "\n",
    "print(person)"
   ]
  },
  {
   "cell_type": "code",
   "execution_count": 122,
   "metadata": {},
   "outputs": [
    {
     "name": "stdout",
     "output_type": "stream",
     "text": [
      "4\n",
      "7\n"
     ]
    }
   ],
   "source": [
    "### Dictionary Length\n",
    "\n",
    "\n",
    "dct = {'key1':'value1', 'key2':'value2', 'key3':'value3', 'key4':'value4'}\n",
    "print(len(dct)) # 4\n",
    "\n",
    "\n",
    "person = {\n",
    "    'first_name':'Asabeneh',\n",
    "    'last_name':'Yetayeh',\n",
    "    'age':250,\n",
    "    'country':'Finland',\n",
    "    'is_marred':True,\n",
    "    'skills':['JavaScript', 'React', 'Node', 'MongoDB', 'Python'],\n",
    "    'address':{\n",
    "        'street':'Space street',\n",
    "        'zipcode':'02210'\n",
    "    }\n",
    "    }\n",
    "print(len(person)) # 7\n"
   ]
  },
  {
   "cell_type": "code",
   "execution_count": 123,
   "metadata": {},
   "outputs": [
    {
     "name": "stdout",
     "output_type": "stream",
     "text": [
      "value1\n",
      "value4\n",
      "Asabeneh\n",
      "Finland\n",
      "['JavaScript', 'React', 'Node', 'MongoDB', 'Python']\n",
      "JavaScript\n",
      "Space street\n"
     ]
    },
    {
     "ename": "KeyError",
     "evalue": "'city'",
     "output_type": "error",
     "traceback": [
      "\u001b[1;31m---------------------------------------------------------------------------\u001b[0m",
      "\u001b[1;31mKeyError\u001b[0m                                  Traceback (most recent call last)",
      "\u001b[1;32m<ipython-input-123-ed68265d8d44>\u001b[0m in \u001b[0;36m<module>\u001b[1;34m\u001b[0m\n\u001b[0;32m     24\u001b[0m \u001b[0mprint\u001b[0m\u001b[1;33m(\u001b[0m\u001b[0mperson\u001b[0m\u001b[1;33m[\u001b[0m\u001b[1;34m'skills'\u001b[0m\u001b[1;33m]\u001b[0m\u001b[1;33m[\u001b[0m\u001b[1;36m0\u001b[0m\u001b[1;33m]\u001b[0m\u001b[1;33m)\u001b[0m  \u001b[1;31m# JavaScript\u001b[0m\u001b[1;33m\u001b[0m\u001b[0m\n\u001b[0;32m     25\u001b[0m \u001b[0mprint\u001b[0m\u001b[1;33m(\u001b[0m\u001b[0mperson\u001b[0m\u001b[1;33m[\u001b[0m\u001b[1;34m'address'\u001b[0m\u001b[1;33m]\u001b[0m\u001b[1;33m[\u001b[0m\u001b[1;34m'street'\u001b[0m\u001b[1;33m]\u001b[0m\u001b[1;33m)\u001b[0m \u001b[1;31m# Space street\u001b[0m\u001b[1;33m\u001b[0m\u001b[0m\n\u001b[1;32m---> 26\u001b[1;33m \u001b[0mprint\u001b[0m\u001b[1;33m(\u001b[0m\u001b[0mperson\u001b[0m\u001b[1;33m[\u001b[0m\u001b[1;34m'city'\u001b[0m\u001b[1;33m]\u001b[0m\u001b[1;33m)\u001b[0m       \u001b[1;31m# Error\u001b[0m\u001b[1;33m\u001b[0m\u001b[0m\n\u001b[0m",
      "\u001b[1;31mKeyError\u001b[0m: 'city'"
     ]
    }
   ],
   "source": [
    "### Accessing Dictionary Items\n",
    "\n",
    "dct = {'key1':'value1', 'key2':'value2', 'key3':'value3', 'key4':'value4'}\n",
    "print(dct['key1']) # value1\n",
    "print(dct['key4']) # value4\n",
    "\n",
    "\n",
    "person = {\n",
    "    'first_name':'Asabeneh',\n",
    "    'last_name':'Yetayeh',\n",
    "    'age':250,\n",
    "    'country':'Finland',\n",
    "    'is_marred':True,\n",
    "    'skills':['JavaScript', 'React', 'Node', 'MongoDB', 'Python'],\n",
    "    'address':{\n",
    "        'street':'Space street',\n",
    "        'zipcode':'02210'\n",
    "    }\n",
    "    }\n",
    "\n",
    "print(person['first_name']) # Asabeneh\n",
    "print(person['country'])    # Finland\n",
    "print(person['skills'])     # ['JavaScript', 'React', 'Node', 'MongoDB', 'Python']\n",
    "print(person['skills'][0])  # JavaScript\n",
    "print(person['address']['street']) # Space street\n",
    "print(person['city'])       # Error\n"
   ]
  },
  {
   "cell_type": "code",
   "execution_count": 124,
   "metadata": {},
   "outputs": [
    {
     "name": "stdout",
     "output_type": "stream",
     "text": [
      "Asabeneh\n",
      "Finland\n",
      "['JavaScript', 'React', 'Node', 'MongoDB', 'Python']\n",
      "None\n"
     ]
    }
   ],
   "source": [
    "person = {\n",
    "    'first_name':'Asabeneh',\n",
    "    'last_name':'Yetayeh',\n",
    "    'age':250,\n",
    "    'country':'Finland',\n",
    "    'is_marred':True,\n",
    "    'skills':['JavaScript', 'React', 'Node', 'MongoDB', 'Python'],\n",
    "    'address':{\n",
    "        'street':'Space street',\n",
    "        'zipcode':'02210'\n",
    "    }\n",
    "    }\n",
    "print(person.get('first_name')) # Asabeneh\n",
    "print(person.get('country'))    # Finland\n",
    "print(person.get('skills')) #['HTML','CSS','JavaScript', 'React', 'Node', 'MongoDB', 'Python']\n",
    "print(person.get('city'))   # None"
   ]
  },
  {
   "cell_type": "code",
   "execution_count": 126,
   "metadata": {},
   "outputs": [
    {
     "name": "stdout",
     "output_type": "stream",
     "text": [
      "{'first_name': 'Asabeneh', 'last_name': 'Yetayeh', 'age': 250, 'country': 'Finland', 'is_marred': True, 'skills': ['JavaScript', 'React', 'Node', 'MongoDB', 'Python', 'HTML'], 'address': {'street': 'Space street', 'zipcode': '02210'}, 'job_title': 'Instructor'}\n"
     ]
    }
   ],
   "source": [
    "### Adding Items to a Dictionary\n",
    "\n",
    "dct = {'key1':'value1', 'key2':'value2', 'key3':'value3', 'key4':'value4'}\n",
    "dct['key5'] = 'value5'\n",
    "\n",
    "\n",
    "person = {\n",
    "    'first_name':'Asabeneh',\n",
    "    'last_name':'Yetayeh',\n",
    "    'age':250,\n",
    "    'country':'Finland',\n",
    "    'is_marred':True,\n",
    "    'skills':['JavaScript', 'React', 'Node', 'MongoDB', 'Python'],\n",
    "    'address':{\n",
    "        'street':'Space street',\n",
    "        'zipcode':'02210'\n",
    "        }\n",
    "}\n",
    "person['job_title'] = 'Instructor'\n",
    "person['skills'].append('HTML')\n",
    "print(person)"
   ]
  },
  {
   "cell_type": "code",
   "execution_count": 128,
   "metadata": {},
   "outputs": [
    {
     "name": "stdout",
     "output_type": "stream",
     "text": [
      "{'key1': 'value-one', 'key2': 'value2', 'key3': 'value3', 'key4': 'value4'}\n",
      "{'first_name': 'Eyob', 'last_name': 'Yetayeh', 'age': 252, 'country': 'Finland', 'is_marred': True, 'skills': ['JavaScript', 'React', 'Node', 'MongoDB', 'Python'], 'address': {'street': 'Space street', 'zipcode': '02210'}}\n"
     ]
    }
   ],
   "source": [
    "### Modifying Items in a Dictionary\n",
    "\n",
    "dct = {'key1':'value1', 'key2':'value2', 'key3':'value3', 'key4':'value4'}\n",
    "dct['key1'] = 'value-one'\n",
    "\n",
    "print(dct)\n",
    "\n",
    "person = {\n",
    "    'first_name':'Asabeneh',\n",
    "    'last_name':'Yetayeh',\n",
    "    'age':250,\n",
    "    'country':'Finland',\n",
    "    'is_marred':True,\n",
    "    'skills':['JavaScript', 'React', 'Node', 'MongoDB', 'Python'],\n",
    "    'address':{\n",
    "        'street':'Space street',\n",
    "        'zipcode':'02210'\n",
    "    }\n",
    "    }\n",
    "person['first_name'] = 'Eyob'\n",
    "person['age'] = 252\n",
    "print(person)"
   ]
  },
  {
   "cell_type": "code",
   "execution_count": 129,
   "metadata": {},
   "outputs": [
    {
     "name": "stdout",
     "output_type": "stream",
     "text": [
      "True\n",
      "False\n"
     ]
    }
   ],
   "source": [
    "### Checking Keys in a Dictionary\n",
    "\n",
    "dct = {'key1':'value1', 'key2':'value2', 'key3':'value3', 'key4':'value4'}\n",
    "print('key2' in dct) # True\n",
    "print('key5' in dct) # False\n"
   ]
  },
  {
   "cell_type": "code",
   "execution_count": 131,
   "metadata": {},
   "outputs": [
    {
     "name": "stdout",
     "output_type": "stream",
     "text": [
      "{'key2': 'value2', 'key3': 'value3', 'key4': 'value4'}\n",
      "{'key1': 'value1', 'key2': 'value2', 'key3': 'value3'}\n",
      "{'key1': 'value1', 'key3': 'value3'}\n"
     ]
    }
   ],
   "source": [
    "### Removing Key and Value Pairs from a Dictionary\n",
    "\n",
    "dct = {'key1':'value1', 'key2':'value2', 'key3':'value3', 'key4':'value4'}\n",
    "dct.pop('key1') # removes key1 item\n",
    "print(dct)\n",
    "dct = {'key1':'value1', 'key2':'value2', 'key3':'value3', 'key4':'value4'}\n",
    "dct.popitem() # removes the last item\n",
    "print(dct)\n",
    "del dct['key2'] # removes key2 item\n",
    "print(dct)"
   ]
  },
  {
   "cell_type": "code",
   "execution_count": 133,
   "metadata": {},
   "outputs": [
    {
     "name": "stdout",
     "output_type": "stream",
     "text": [
      "{'last_name': 'Yetayeh', 'age': 250, 'country': 'Finland', 'is_married': True, 'skills': ['JavaScript', 'React', 'Node', 'MongoDB', 'Python'], 'address': {'street': 'Space street', 'zipcode': '02210'}}\n",
      "{'last_name': 'Yetayeh', 'age': 250, 'country': 'Finland', 'is_married': True, 'skills': ['JavaScript', 'React', 'Node', 'MongoDB', 'Python']}\n",
      "{'last_name': 'Yetayeh', 'age': 250, 'country': 'Finland', 'skills': ['JavaScript', 'React', 'Node', 'MongoDB', 'Python']}\n"
     ]
    }
   ],
   "source": [
    "person = {\n",
    "    'first_name':'Asabeneh',\n",
    "    'last_name':'Yetayeh',\n",
    "    'age':250,\n",
    "    'country':'Finland',\n",
    "    'is_married':True,\n",
    "    'skills':['JavaScript', 'React', 'Node', 'MongoDB', 'Python'],\n",
    "    'address':{\n",
    "        'street':'Space street',\n",
    "        'zipcode':'02210'\n",
    "    }\n",
    "    }\n",
    "person.pop('first_name')        # Removes the firstname item\n",
    "print(person)\n",
    "person.popitem()                # Removes the address item\n",
    "print(person)\n",
    "del person['is_married']        # Removes the is_married item\n",
    "print(person)\n"
   ]
  },
  {
   "cell_type": "code",
   "execution_count": 134,
   "metadata": {},
   "outputs": [
    {
     "name": "stdout",
     "output_type": "stream",
     "text": [
      "dict_items([('key1', 'value1'), ('key2', 'value2'), ('key3', 'value3'), ('key4', 'value4')])\n"
     ]
    }
   ],
   "source": [
    "### Changing Dictionary to a List of Items\n",
    "\n",
    "dct = {'key1':'value1', 'key2':'value2', 'key3':'value3', 'key4':'value4'}\n",
    "print(dct.items()) # dict_items([('key1', 'value1'), ('key2', 'value2'), ('key3', 'value3'), ('key4', 'value4')])"
   ]
  },
  {
   "cell_type": "code",
   "execution_count": 136,
   "metadata": {},
   "outputs": [
    {
     "name": "stdout",
     "output_type": "stream",
     "text": [
      "None\n"
     ]
    }
   ],
   "source": [
    "### Clearing a Dictionary\n",
    "\n",
    "dct = {'key1':'value1', 'key2':'value2', 'key3':'value3', 'key4':'value4'}\n",
    "print(dct.clear()) # None"
   ]
  },
  {
   "cell_type": "code",
   "execution_count": 137,
   "metadata": {},
   "outputs": [],
   "source": [
    "\n",
    "### Deleting a Dictionary\n",
    "\n",
    "dct = {'key1':'value1', 'key2':'value2', 'key3':'value3', 'key4':'value4'}\n",
    "del dct\n"
   ]
  },
  {
   "cell_type": "code",
   "execution_count": 139,
   "metadata": {},
   "outputs": [
    {
     "ename": "NameError",
     "evalue": "name 'dct' is not defined",
     "output_type": "error",
     "traceback": [
      "\u001b[1;31m---------------------------------------------------------------------------\u001b[0m",
      "\u001b[1;31mNameError\u001b[0m                                 Traceback (most recent call last)",
      "\u001b[1;32m<ipython-input-139-229ee6089a85>\u001b[0m in \u001b[0;36m<module>\u001b[1;34m\u001b[0m\n\u001b[1;32m----> 1\u001b[1;33m \u001b[0mprint\u001b[0m\u001b[1;33m(\u001b[0m\u001b[0mdct\u001b[0m\u001b[1;33m)\u001b[0m\u001b[1;33m\u001b[0m\u001b[0m\n\u001b[0m",
      "\u001b[1;31mNameError\u001b[0m: name 'dct' is not defined"
     ]
    }
   ],
   "source": [
    "print(dct)"
   ]
  },
  {
   "cell_type": "code",
   "execution_count": 141,
   "metadata": {},
   "outputs": [
    {
     "name": "stdout",
     "output_type": "stream",
     "text": [
      "{'key1': 'value1', 'key2': 'value2', 'key3': 'value3', 'key4': 'value4'}\n"
     ]
    }
   ],
   "source": [
    "### Copy a Dictionary\n",
    "\n",
    "dct = {'key1':'value1', 'key2':'value2', 'key3':'value3', 'key4':'value4'}\n",
    "dct_copy = dct.copy() # {'key1':'value1', 'key2':'value2', 'key3':'value3', 'key4':'value4'}\n",
    "print(dct_copy)"
   ]
  },
  {
   "cell_type": "code",
   "execution_count": 142,
   "metadata": {},
   "outputs": [
    {
     "name": "stdout",
     "output_type": "stream",
     "text": [
      "dict_keys(['key1', 'key2', 'key3', 'key4'])\n"
     ]
    }
   ],
   "source": [
    "### Getting Dictionary Keys as a List\n",
    "\n",
    "dct = {'key1':'value1', 'key2':'value2', 'key3':'value3', 'key4':'value4'}\n",
    "keys = dct.keys()\n",
    "print(keys)     # dict_keys(['key1', 'key2', 'key3', 'key4'])\n"
   ]
  },
  {
   "cell_type": "code",
   "execution_count": 144,
   "metadata": {},
   "outputs": [
    {
     "name": "stdout",
     "output_type": "stream",
     "text": [
      "dict_values(['value1', 'value2', 'value3', 'value4'])\n"
     ]
    }
   ],
   "source": [
    "\n",
    "### Getting Dictionary Values as a List\n",
    "\n",
    "dct = {'key1':'value1', 'key2':'value2', 'key3':'value3', 'key4':'value4'}\n",
    "values = dct.values()\n",
    "print(values)     # dict_values(['value1', 'value2', 'value3', 'value4'])"
   ]
  }
 ],
 "metadata": {
  "kernelspec": {
   "display_name": "Python 3 (ipykernel)",
   "language": "python",
   "name": "python3"
  },
  "language_info": {
   "codemirror_mode": {
    "name": "ipython",
    "version": 3
   },
   "file_extension": ".py",
   "mimetype": "text/x-python",
   "name": "python",
   "nbconvert_exporter": "python",
   "pygments_lexer": "ipython3",
   "version": "3.8.5"
  }
 },
 "nbformat": 4,
 "nbformat_minor": 2
}
